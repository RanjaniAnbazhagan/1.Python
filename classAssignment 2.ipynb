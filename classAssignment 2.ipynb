{
 "cells": [
  {
   "cell_type": "code",
   "execution_count": 9,
   "id": "690c996e-de37-49d3-af46-e4d427924129",
   "metadata": {},
   "outputs": [],
   "source": [
    "from multiplefunctions import sample"
   ]
  },
  {
   "cell_type": "code",
   "execution_count": 11,
   "id": "1aa5dfaf-e611-4efd-afcb-f66c82cea10b",
   "metadata": {},
   "outputs": [
    {
     "name": "stdout",
     "output_type": "stream",
     "text": [
      "subfields in AI are\n",
      "Machine Learning\n",
      "Neural Networks\n",
      "vision\n",
      "Robotics\n",
      "Speech Processing\n",
      "Natural Language Processing\n"
     ]
    }
   ],
   "source": [
    "sample.subfields()"
   ]
  },
  {
   "cell_type": "code",
   "execution_count": 14,
   "id": "19e7d086-339e-4942-92d7-2c947c0364d4",
   "metadata": {},
   "outputs": [
    {
     "name": "stdin",
     "output_type": "stream",
     "text": [
      "Enter a number 2344\n"
     ]
    },
    {
     "name": "stdout",
     "output_type": "stream",
     "text": [
      "2344 is Even number\n"
     ]
    }
   ],
   "source": [
    "sample.oddEven()"
   ]
  },
  {
   "cell_type": "code",
   "execution_count": 16,
   "id": "d51ceb98-3601-4921-9503-a476ce5bfdbe",
   "metadata": {},
   "outputs": [
    {
     "name": "stdin",
     "output_type": "stream",
     "text": [
      "your gender male\n",
      "your Age 12\n"
     ]
    },
    {
     "name": "stdout",
     "output_type": "stream",
     "text": [
      "not eligible for marriage\n"
     ]
    }
   ],
   "source": [
    "sample.eligible()"
   ]
  },
  {
   "cell_type": "code",
   "execution_count": 20,
   "id": "0b1d664e-b0f1-4a31-be62-18a30b8fc3ef",
   "metadata": {},
   "outputs": [
    {
     "name": "stdin",
     "output_type": "stream",
     "text": [
      "subject1 89\n",
      "subject2 98\n",
      "subject3 89\n",
      "subject4 67\n",
      "subject5 67\n"
     ]
    },
    {
     "name": "stdout",
     "output_type": "stream",
     "text": [
      "Total: 410\n",
      "percentage: 82.000000000000000\n"
     ]
    }
   ],
   "source": [
    "sample.percentage()"
   ]
  },
  {
   "cell_type": "code",
   "execution_count": 24,
   "id": "c243489f-e7e7-45bc-89fa-477b0a957808",
   "metadata": {},
   "outputs": [
    {
     "name": "stdin",
     "output_type": "stream",
     "text": [
      "Height: 32\n",
      "Breadth: 34\n"
     ]
    },
    {
     "name": "stdout",
     "output_type": "stream",
     "text": [
      "Area formula:(Height*Breadth)/2\n",
      "Area of Triangle: 544.0\n"
     ]
    },
    {
     "name": "stdin",
     "output_type": "stream",
     "text": [
      "Height1 2\n",
      "Height2 4\n",
      "Breadth 4\n"
     ]
    },
    {
     "name": "stdout",
     "output_type": "stream",
     "text": [
      "Perimeter formula:Height1+Height2+Breadth\n",
      "perimeter of Triangle 10\n"
     ]
    }
   ],
   "source": [
    "sample.Triangle()"
   ]
  },
  {
   "cell_type": "code",
   "execution_count": null,
   "id": "b4928b81-a770-46cc-ad99-0e36e54695b0",
   "metadata": {},
   "outputs": [],
   "source": []
  }
 ],
 "metadata": {
  "kernelspec": {
   "display_name": "Python 3 (ipykernel)",
   "language": "python",
   "name": "python3"
  },
  "language_info": {
   "codemirror_mode": {
    "name": "ipython",
    "version": 3
   },
   "file_extension": ".py",
   "mimetype": "text/x-python",
   "name": "python",
   "nbconvert_exporter": "python",
   "pygments_lexer": "ipython3",
   "version": "3.12.4"
  }
 },
 "nbformat": 4,
 "nbformat_minor": 5
}
