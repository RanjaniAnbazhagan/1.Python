{
 "cells": [
  {
   "cell_type": "code",
   "execution_count": 13,
   "id": "e9ec46b7-fdb5-416b-aeb6-aa6a04b45c5e",
   "metadata": {},
   "outputs": [],
   "source": [
    "class subfieldsinAI():\n",
    "    def subfields():\n",
    "        List=[\"Machine Learning\",\"Neural Networks\",\"vision\",\"Robotics\",\"Speech Processing\",\"Natural Language Processing\"]\n",
    "        print(\"subfields in AI are\")\n",
    "        for name in List:\n",
    "            print(name)"
   ]
  },
  {
   "cell_type": "code",
   "execution_count": 15,
   "id": "c644293a-d0b2-41fe-98de-b61e3d13a0e8",
   "metadata": {},
   "outputs": [
    {
     "name": "stdout",
     "output_type": "stream",
     "text": [
      "subfields in AI are\n",
      "Machine Learning\n",
      "Neural Networks\n",
      "vision\n",
      "Robotics\n",
      "Speech Processing\n",
      "Natural Language Processing\n"
     ]
    }
   ],
   "source": [
    "subfieldsinAI.subfields()"
   ]
  },
  {
   "cell_type": "code",
   "execution_count": 23,
   "id": "e6b02aa2-d3ff-4408-894b-fe07b0c7d8d4",
   "metadata": {},
   "outputs": [],
   "source": [
    "class oddEven():\n",
    "    def oddEven():\n",
    "        num=int(input(\"Enter a number\"))\n",
    "        if num%2==0:\n",
    "            print(num,\"is Even number\")\n",
    "        else:\n",
    "            print(\"Number is odd\")"
   ]
  },
  {
   "cell_type": "code",
   "execution_count": 25,
   "id": "024e9dd4-b4e3-4511-8f51-7fe825591b14",
   "metadata": {},
   "outputs": [
    {
     "name": "stdin",
     "output_type": "stream",
     "text": [
      "Enter a number 3432\n"
     ]
    },
    {
     "name": "stdout",
     "output_type": "stream",
     "text": [
      "3432 is Even number\n"
     ]
    }
   ],
   "source": [
    "oddEven.oddEven()"
   ]
  },
  {
   "cell_type": "code",
   "execution_count": 37,
   "id": "22ac1fcc-bfd8-4bf8-8790-e6d6aa54315d",
   "metadata": {},
   "outputs": [],
   "source": [
    "class EligibilityForMarriage():\n",
    "    def eligible():\n",
    "        gender=input(\"your gender\")\n",
    "        age=int(input(\"your Age\"))\n",
    "        if gender==\"male\" and age>21:\n",
    "            print(\"eligible for marriage\")\n",
    "        elif gender==\"female\" and age>21:\n",
    "            print(\"eligible for marriage\")\n",
    "        else:\n",
    "            print(\"not eligible for marriage\")"
   ]
  },
  {
   "cell_type": "code",
   "execution_count": 39,
   "id": "5382b95c-99d4-4c34-93b6-b40f088fad6d",
   "metadata": {},
   "outputs": [
    {
     "name": "stdin",
     "output_type": "stream",
     "text": [
      "your gender male\n",
      "your Age 24\n"
     ]
    },
    {
     "name": "stdout",
     "output_type": "stream",
     "text": [
      "eligible for marriage\n"
     ]
    }
   ],
   "source": [
    "EligibilityForMarriage.eligible()"
   ]
  },
  {
   "cell_type": "code",
   "execution_count": 41,
   "id": "56a43711-9918-4722-b00c-30e2072a2690",
   "metadata": {},
   "outputs": [],
   "source": [
    "class Findpercent():\n",
    "    def percentage():\n",
    "        subject1=int(input(\"subject1\"))\n",
    "        subject2=int(input(\"subject2\"))\n",
    "        subject3=int(input(\"subject3\"))\n",
    "        subject4=int(input(\"subject4\"))\n",
    "        subject5=int(input(\"subject5\"))\n",
    "        total=subject1+subject2+subject3+subject4+subject5\n",
    "        print(\"Total:\",total)\n",
    "        per=total/5\n",
    "        print(\"percentage:\",per)"
   ]
  },
  {
   "cell_type": "code",
   "execution_count": 43,
   "id": "5949e503-4f8e-46e9-bcf7-614b417b770b",
   "metadata": {},
   "outputs": [
    {
     "name": "stdin",
     "output_type": "stream",
     "text": [
      "subject1 67\n",
      "subject2 67\n",
      "subject3 56\n",
      "subject4 78\n",
      "subject5 99\n"
     ]
    },
    {
     "name": "stdout",
     "output_type": "stream",
     "text": [
      "Total: 367\n",
      "percentage: 73.4\n"
     ]
    }
   ],
   "source": [
    "Findpercent.percentage()"
   ]
  },
  {
   "cell_type": "code",
   "execution_count": 45,
   "id": "d683d2d2-f7a8-4713-acb0-f46c867cc264",
   "metadata": {},
   "outputs": [],
   "source": [
    "class Triangle():\n",
    "          def perimeter():\n",
    "        Height1=int(input(\"Height1\"))\n",
    "        Height2=int(input(\"Height2\"))\n",
    "        Breadth=int(input(\"Breadth\"))\n",
    "        print(\"Perimeter formula:Height1+Height2+Breadth\")\n",
    "        perimeter=(Height1+Height2+Breadth)\n",
    "        print(\"perimeter of Triangle\",perimeter)\n"
   ]
  },
  {
   "cell_type": "code",
   "execution_count": null,
   "id": "7833534f-e237-426a-bb82-7897b6295001",
   "metadata": {},
   "outputs": [],
   "source": [
    "Triangle.area()"
   ]
  }
 ],
 "metadata": {
  "kernelspec": {
   "display_name": "Python 3 (ipykernel)",
   "language": "python",
   "name": "python3"
  },
  "language_info": {
   "codemirror_mode": {
    "name": "ipython",
    "version": 3
   },
   "file_extension": ".py",
   "mimetype": "text/x-python",
   "name": "python",
   "nbconvert_exporter": "python",
   "pygments_lexer": "ipython3",
   "version": "3.12.4"
  }
 },
 "nbformat": 4,
 "nbformat_minor": 5
}
