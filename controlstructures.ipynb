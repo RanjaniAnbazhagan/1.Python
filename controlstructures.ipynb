{
 "cells": [
  {
   "cell_type": "code",
   "execution_count": 1,
   "id": "d6ca1733-a159-4e08-965a-eb41f49a1b22",
   "metadata": {},
   "outputs": [
    {
     "name": "stdout",
     "output_type": "stream",
     "text": [
      "welcome to Assignment-1\n"
     ]
    }
   ],
   "source": [
    "print(\"welcome to Assignment-1\")"
   ]
  },
  {
   "cell_type": "code",
   "execution_count": 5,
   "id": "f25c91cd-d9b6-4308-8f13-16f75b5dfc45",
   "metadata": {},
   "outputs": [
    {
     "name": "stdout",
     "output_type": "stream",
     "text": [
      "Num1= 10\n",
      "Num2= 30\n",
      "Add= 40\n"
     ]
    }
   ],
   "source": [
    "Num1=int(10)\n",
    "Num2=int(30)\n",
    "Add=int(Num1+Num2)\n",
    "print(\"Num1=\",Num1)\n",
    "print(\"Num2=\",Num2)\n",
    "print(\"Add=\",Add)"
   ]
  },
  {
   "cell_type": "code",
   "execution_count": 21,
   "id": "0b1d39e8-e776-496f-8787-454e4dd3fbd4",
   "metadata": {},
   "outputs": [
    {
     "name": "stdin",
     "output_type": "stream",
     "text": [
      "Enter the BMI index: 34\n"
     ]
    },
    {
     "name": "stdout",
     "output_type": "stream",
     "text": [
      "Very overweight\n"
     ]
    }
   ],
   "source": [
    "bmi=float(input(\"Enter the BMI index:\"))\n",
    "if (bmi<18.5):\n",
    "    print(\"underweight\")\n",
    "elif (18.5<bmi<24.9):\n",
    "    print(\"normal\")\n",
    "elif(25.0<bmi<29.9):\n",
    "    print(\"over weight\")\n",
    "elif(30.0<bmi<34.9):\n",
    "    print(\"Very overweight\")\n",
    "elif(bmi>35.0):\n",
    "    print(\"Extremely obese\")"
   ]
  },
  {
   "cell_type": "code",
   "execution_count": 23,
   "id": "22f4bacd-bdcb-4d09-9a95-5a6d67d28056",
   "metadata": {},
   "outputs": [
    {
     "name": "stdout",
     "output_type": "stream",
     "text": [
      "HOPE AI\n"
     ]
    }
   ],
   "source": [
    "print(\"HOPE AI\")"
   ]
  },
  {
   "cell_type": "code",
   "execution_count": 25,
   "id": "e5b3a172-27f5-405d-9728-7c8358fdd354",
   "metadata": {},
   "outputs": [
    {
     "name": "stdin",
     "output_type": "stream",
     "text": [
      "Enter your Institute name HOPE AI\n"
     ]
    }
   ],
   "source": [
    "name=input(\"Enter your Institute name\")"
   ]
  },
  {
   "cell_type": "code",
   "execution_count": 27,
   "id": "db7371b0-4cef-4869-9dbd-7404a7810a71",
   "metadata": {},
   "outputs": [
    {
     "name": "stdin",
     "output_type": "stream",
     "text": [
      "Enter your name Ranjani\n",
      "Enter your age 34\n",
      "Enter your school name sunbeam\n",
      "Enter your degree M.E\n"
     ]
    }
   ],
   "source": [
    "name=input(\"Enter your name\")\n",
    "age=int(input(\"Enter your age\"))\n",
    "schoolname=input(\"Enter your school name\")\n",
    "degree=input(\"Enter your degree\")"
   ]
  },
  {
   "cell_type": "code",
   "execution_count": 29,
   "id": "3eab257b-4fdc-45a4-a67b-65c4ec45eb3f",
   "metadata": {},
   "outputs": [
    {
     "name": "stdout",
     "output_type": "stream",
     "text": [
      "a= 43\n",
      "b= 34\n",
      "add= 77\n"
     ]
    }
   ],
   "source": [
    "a=int(43)\n",
    "b=int(34)\n",
    "add=a+b\n",
    "print(\"a=\",a)\n",
    "print(\"b=\",b)\n",
    "print(\"add=\",add)"
   ]
  },
  {
   "cell_type": "code",
   "execution_count": 33,
   "id": "640342e5-0a7a-4b61-8118-cc27757b1adc",
   "metadata": {},
   "outputs": [
    {
     "name": "stdout",
     "output_type": "stream",
     "text": [
      "a= 43\n",
      "b= 34\n",
      "sub= 9\n"
     ]
    }
   ],
   "source": [
    "a=int(43)\n",
    "b=int(34)\n",
    "sub=a-b\n",
    "print(\"a=\",a)\n",
    "print(\"b=\",b)\n",
    "print(\"sub=\",sub)"
   ]
  },
  {
   "cell_type": "code",
   "execution_count": 35,
   "id": "4abaa20d-b74c-410c-b780-3fe5ecc1f6ea",
   "metadata": {},
   "outputs": [
    {
     "name": "stdout",
     "output_type": "stream",
     "text": [
      "a= 63\n",
      "b= 97\n",
      "mul= 6111\n"
     ]
    }
   ],
   "source": [
    "a=int(63)\n",
    "b=int(97)\n",
    "mul=a*b\n",
    "print(\"a=\",a)\n",
    "print(\"b=\",b)\n",
    "print(\"mul=\",mul)"
   ]
  },
  {
   "cell_type": "code",
   "execution_count": 37,
   "id": "284f9ab8-cde9-474a-a5be-bfb0ed9052b7",
   "metadata": {},
   "outputs": [
    {
     "name": "stdout",
     "output_type": "stream",
     "text": [
      "a= 76\n",
      "b= 31\n",
      "Float Div= 2.4516129032258065\n"
     ]
    }
   ],
   "source": [
    "a=int(76)\n",
    "b=int(31)\n",
    "div=a/b\n",
    "print(\"a=\",a)\n",
    "print(\"b=\",b)\n",
    "print(\"Float Div=\",div)"
   ]
  },
  {
   "cell_type": "code",
   "execution_count": 43,
   "id": "0e68df02-5ef5-4943-bcc2-9fca5cb46dde",
   "metadata": {},
   "outputs": [
    {
     "name": "stdout",
     "output_type": "stream",
     "text": [
      "a= 76\n",
      "b= 31\n",
      "Floor Div= 2\n"
     ]
    }
   ],
   "source": [
    "a=int(76)\n",
    "b=int(31)\n",
    "div=a//b\n",
    "print(\"a=\",a)\n",
    "print(\"b=\",b)\n",
    "print(\"Floor Div=\",div)"
   ]
  },
  {
   "cell_type": "code",
   "execution_count": 47,
   "id": "3d657581-fc21-414a-a0a9-09850fd82c5e",
   "metadata": {},
   "outputs": [
    {
     "name": "stdout",
     "output_type": "stream",
     "text": [
      "a= 76\n",
      "b= 31\n",
      "Modulo= 14\n"
     ]
    }
   ],
   "source": [
    "a=int(76)\n",
    "b=int(31)\n",
    "modulo= a%b\n",
    "print(\"a=\",a)\n",
    "print(\"b=\",b)\n",
    "print(\"Modulo=\",modulo)"
   ]
  },
  {
   "cell_type": "code",
   "execution_count": 49,
   "id": "c1845de0-092d-43b7-b413-6812450f018d",
   "metadata": {},
   "outputs": [
    {
     "name": "stdout",
     "output_type": "stream",
     "text": [
      "a= 4\n",
      "b= 4\n",
      "Power= 256\n"
     ]
    }
   ],
   "source": [
    "a=int(4)\n",
    "b=int(4)\n",
    "power= a**b\n",
    "print(\"a=\",a)\n",
    "print(\"b=\",b)\n",
    "print(\"Power=\",power)"
   ]
  },
  {
   "cell_type": "code",
   "execution_count": 59,
   "id": "2d4613ce-760a-4fe9-8b29-5a473b3bf4c6",
   "metadata": {},
   "outputs": [
    {
     "name": "stdout",
     "output_type": "stream",
     "text": [
      "0\n",
      "1\n",
      "2\n",
      "3\n",
      "4\n",
      "5\n",
      "6\n",
      "7\n",
      "8\n",
      "9\n",
      "10\n",
      "11\n",
      "12\n",
      "13\n",
      "14\n",
      "15\n",
      "16\n",
      "17\n",
      "18\n",
      "19\n"
     ]
    }
   ],
   "source": [
    "for temp in range(0,20):\n",
    "    print(temp)"
   ]
  },
  {
   "cell_type": "code",
   "execution_count": 63,
   "id": "24d28c1b-384a-4f87-b406-a45cd60e5ee0",
   "metadata": {},
   "outputs": [
    {
     "name": "stdout",
     "output_type": "stream",
     "text": [
      "10\n",
      "11\n",
      "12\n",
      "13\n",
      "14\n",
      "15\n",
      "16\n",
      "17\n",
      "18\n",
      "19\n"
     ]
    }
   ],
   "source": [
    "for temp in range(10,20):\n",
    "    print(temp)\n"
   ]
  },
  {
   "cell_type": "code",
   "execution_count": 67,
   "id": "75141b9c-63c9-47f1-bfd7-bb74b9672b4f",
   "metadata": {},
   "outputs": [
    {
     "name": "stdout",
     "output_type": "stream",
     "text": [
      "[10, 20, 14, 55, 43, 87, 76]\n",
      "Number of items in the List2: 7\n"
     ]
    }
   ],
   "source": [
    "li=[10,20,14,55,43,87,76]\n",
    "print(li)\n",
    "print(\"Number of items in the List2:\",len(li))"
   ]
  },
  {
   "cell_type": "code",
   "execution_count": 93,
   "id": "643d74ae-5bf3-4781-a6c2-1ba75272374f",
   "metadata": {},
   "outputs": [
    {
     "name": "stdout",
     "output_type": "stream",
     "text": [
      "A\n",
      "r\n",
      "t\n",
      "i\n",
      "f\n",
      "i\n",
      "c\n",
      "i\n",
      "a\n",
      "l\n",
      " \n",
      "I\n",
      "n\n",
      "t\n",
      "e\n",
      "l\n",
      "l\n",
      "i\n",
      "g\n",
      "e\n",
      "n\n",
      "c\n",
      "e\n"
     ]
    }
   ],
   "source": [
    "li=['A','r','t','i','f','i','c','i','a','l',' ','I','n','t','e','l','l','i','g','e','n','c','e']\n",
    "for temp in li:\n",
    "    print(temp)"
   ]
  },
  {
   "cell_type": "code",
   "execution_count": 83,
   "id": "edf38df3-df23-46bb-bee8-f20b11f222e2",
   "metadata": {},
   "outputs": [
    {
     "name": "stdin",
     "output_type": "stream",
     "text": [
      "Your name- Ranjani\n",
      "Your Age- 34\n",
      "Your Profession- Scholar\n"
     ]
    }
   ],
   "source": [
    "name=input(\"Your name-\")\n",
    "Age=input(\"Your Age-\")\n",
    "Profession=input(\"Your Profession-\")"
   ]
  },
  {
   "cell_type": "code",
   "execution_count": 97,
   "id": "176f41aa-d5b1-48e1-a5a1-80a98a1a7699",
   "metadata": {},
   "outputs": [
    {
     "name": "stdout",
     "output_type": "stream",
     "text": [
      "(1, 'welcome', 2, 'Hope')\n"
     ]
    }
   ],
   "source": [
    "tupl=(1,'welcome',2,'Hope')\n",
    "print(tupl)"
   ]
  },
  {
   "cell_type": "code",
   "execution_count": 101,
   "id": "15b0ceea-f618-4da8-8c37-ee881bede780",
   "metadata": {},
   "outputs": [
    {
     "name": "stdout",
     "output_type": "stream",
     "text": [
      "((0, 1, 2, 3), ('Python', 'HOPE'))\n"
     ]
    }
   ],
   "source": [
    "tuple1=(0,1,2,3)\n",
    "tuple2=('Python','HOPE')\n",
    "tuple3=(tuple1,tuple2)\n",
    "print(tuple3)"
   ]
  },
  {
   "cell_type": "code",
   "execution_count": 103,
   "id": "8660a12b-85d8-4146-beaf-b5005cd008d3",
   "metadata": {},
   "outputs": [],
   "source": [
    "li=[20,10,16,19,25,1,276,188]"
   ]
  },
  {
   "cell_type": "code",
   "execution_count": 123,
   "id": "266bdd3e-19fe-49d6-a29b-c18b45d4549f",
   "metadata": {
    "scrolled": true
   },
   "outputs": [
    {
     "name": "stdout",
     "output_type": "stream",
     "text": [
      "19 is odd\n",
      "25 is odd\n",
      "1 is odd\n"
     ]
    }
   ],
   "source": [
    "for temp in li:\n",
    "    if temp%2!=0:\n",
    "        print(temp,\"is odd\")"
   ]
  },
  {
   "cell_type": "code",
   "execution_count": 127,
   "id": "c37db8d1-2b51-4513-9b74-75a090a539f5",
   "metadata": {},
   "outputs": [
    {
     "name": "stdin",
     "output_type": "stream",
     "text": [
      "value==: 10\n"
     ]
    },
    {
     "name": "stdout",
     "output_type": "stream",
     "text": [
      "CORRECT\n"
     ]
    }
   ],
   "source": [
    "num=int(input(\"value==:\"))\n",
    "if num==10:\n",
    "    print(\"CORRECT\")\n"
   ]
  },
  {
   "cell_type": "code",
   "execution_count": 131,
   "id": "cbf8d255-725b-46f5-ab76-9bd10e96e13d",
   "metadata": {},
   "outputs": [
    {
     "name": "stdin",
     "output_type": "stream",
     "text": [
      "Enter the password: HOPE@123\n"
     ]
    },
    {
     "name": "stdout",
     "output_type": "stream",
     "text": [
      "your password is correct\n"
     ]
    }
   ],
   "source": [
    "name=input(\"Enter the password:\")\n",
    "if name==\"HOPE@123\":\n",
    "   print(\"your password is correct\") \n",
    "\n"
   ]
  },
  {
   "cell_type": "code",
   "execution_count": 137,
   "id": "6fb0a872-23c2-43b5-8b97-d6dd0e429ec9",
   "metadata": {},
   "outputs": [
    {
     "name": "stdin",
     "output_type": "stream",
     "text": [
      "age 20\n"
     ]
    },
    {
     "name": "stdout",
     "output_type": "stream",
     "text": [
      "adult\n"
     ]
    }
   ],
   "source": [
    "age=int(input(\"age\"))\n",
    "if age<=12:\n",
    "    print(\"children\")\n",
    "elif 13<age<39:\n",
    "    print(\"adult\")\n",
    "elif 40<age<60:\n",
    "    print(\"citizen\")\n",
    "elif 61<age<120:\n",
    "    print(\"senior citizen\")\n",
    "else:\n",
    "    print(\"Not a human\")\n"
   ]
  },
  {
   "cell_type": "code",
   "execution_count": 145,
   "id": "7d1088f9-8681-4911-ac12-4ff2fa6377f8",
   "metadata": {},
   "outputs": [
    {
     "name": "stdin",
     "output_type": "stream",
     "text": [
      "enter a number 89\n"
     ]
    },
    {
     "name": "stdout",
     "output_type": "stream",
     "text": [
      "Number is positive\n"
     ]
    }
   ],
   "source": [
    "num=int(input(\"enter a number\"))\n",
    "if num>0:\n",
    "    print(\"Number is positive\")\n",
    "else:\n",
    "    print(\"Number is negative\")\n"
   ]
  },
  {
   "cell_type": "code",
   "execution_count": 147,
   "id": "69c36764-caf4-4cdc-997f-281cc8ef65d0",
   "metadata": {},
   "outputs": [
    {
     "name": "stdin",
     "output_type": "stream",
     "text": [
      "enter a number to check 22\n"
     ]
    },
    {
     "name": "stdout",
     "output_type": "stream",
     "text": [
      "Number is not divisible by 5\n"
     ]
    }
   ],
   "source": [
    "num=int(input(\"enter a number to check\"))\n",
    "if num%5==0:\n",
    "    print(\"Number is divisible by 5\")\n",
    "else:\n",
    "    print(\"Number is not divisible by 5\")"
   ]
  },
  {
   "cell_type": "code",
   "execution_count": null,
   "id": "b42e12b8-d998-40be-83b9-812a0031fa44",
   "metadata": {},
   "outputs": [],
   "source": []
  }
 ],
 "metadata": {
  "kernelspec": {
   "display_name": "Python 3 (ipykernel)",
   "language": "python",
   "name": "python3"
  },
  "language_info": {
   "codemirror_mode": {
    "name": "ipython",
    "version": 3
   },
   "file_extension": ".py",
   "mimetype": "text/x-python",
   "name": "python",
   "nbconvert_exporter": "python",
   "pygments_lexer": "ipython3",
   "version": "3.12.4"
  }
 },
 "nbformat": 4,
 "nbformat_minor": 5
}
