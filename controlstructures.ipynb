{
 "cells": [
  {
   "cell_type": "code",
   "execution_count": 1,
   "id": "d6ca1733-a159-4e08-965a-eb41f49a1b22",
   "metadata": {},
   "outputs": [
    {
     "name": "stdout",
     "output_type": "stream",
     "text": [
      "welcome to Assignment-1\n"
     ]
    }
   ],
   "source": [
    "print(\"welcome to Assignment-1\")"
   ]
  },
  {
   "cell_type": "code",
   "execution_count": 5,
   "id": "f25c91cd-d9b6-4308-8f13-16f75b5dfc45",
   "metadata": {},
   "outputs": [
    {
     "name": "stdout",
     "output_type": "stream",
     "text": [
      "Num1= 10\n",
      "Num2= 30\n",
      "Add= 40\n"
     ]
    }
   ],
   "source": [
    "Num1=int(10)\n",
    "Num2=int(30)\n",
    "Add=int(Num1+Num2)\n",
    "print(\"Num1=\",Num1)\n",
    "print(\"Num2=\",Num2)\n",
    "print(\"Add=\",Add)"
   ]
  },
  {
   "cell_type": "code",
   "execution_count": 21,
   "id": "0b1d39e8-e776-496f-8787-454e4dd3fbd4",
   "metadata": {},
   "outputs": [
    {
     "name": "stdin",
     "output_type": "stream",
     "text": [
      "Enter the BMI index: 34\n"
     ]
    },
    {
     "name": "stdout",
     "output_type": "stream",
     "text": [
      "Very overweight\n"
     ]
    }
   ],
   "source": [
    "bmi=float(input(\"Enter the BMI index:\"))\n",
    "if (bmi<18.5):\n",
    "    print(\"underweight\")\n",
    "elif (18.5<bmi<24.9):\n",
    "    print(\"normal\")\n",
    "elif(25.0<bmi<29.9):\n",
    "    print(\"over weight\")\n",
    "elif(30.0<bmi<34.9):\n",
    "    print(\"Very overweight\")\n",
    "elif(bmi>35.0):\n",
    "    print(\"Extremely obese\")"
   ]
  },
  {
   "cell_type": "code",
   "execution_count": null,
   "id": "22f4bacd-bdcb-4d09-9a95-5a6d67d28056",
   "metadata": {},
   "outputs": [],
   "source": []
  }
 ],
 "metadata": {
  "kernelspec": {
   "display_name": "Python 3 (ipykernel)",
   "language": "python",
   "name": "python3"
  },
  "language_info": {
   "codemirror_mode": {
    "name": "ipython",
    "version": 3
   },
   "file_extension": ".py",
   "mimetype": "text/x-python",
   "name": "python",
   "nbconvert_exporter": "python",
   "pygments_lexer": "ipython3",
   "version": "3.12.4"
  }
 },
 "nbformat": 4,
 "nbformat_minor": 5
}
