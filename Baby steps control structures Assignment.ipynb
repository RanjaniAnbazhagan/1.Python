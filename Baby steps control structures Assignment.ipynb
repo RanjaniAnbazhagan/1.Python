{
 "cells": [
  {
   "cell_type": "code",
   "execution_count": 1,
   "id": "c79309a0-ecfa-407a-b48c-6c5e1634c22f",
   "metadata": {},
   "outputs": [
    {
     "name": "stdout",
     "output_type": "stream",
     "text": [
      "welcome to Assignment-1\n"
     ]
    }
   ],
   "source": [
    "print(\"welcome to Assignment-1\")\n"
   ]
  },
  {
   "cell_type": "code",
   "execution_count": 3,
   "id": "b6d0fc52-7164-4b73-8d92-aa1e75c8e4da",
   "metadata": {},
   "outputs": [
    {
     "name": "stdout",
     "output_type": "stream",
     "text": [
      "Num1= 10\n",
      "Num2= 30\n",
      "Add= 40\n"
     ]
    }
   ],
   "source": [
    "Num1=int(10)\n",
    "Num2=int(30)\n",
    "Add=int(Num1+Num2)\n",
    "print(\"Num1=\",Num1)\n",
    "print(\"Num2=\",Num2)\n",
    "print(\"Add=\",Add)\n"
   ]
  },
  {
   "cell_type": "code",
   "execution_count": 5,
   "id": "14f2ede0-9f65-46ce-948a-4a0fc686d9bc",
   "metadata": {},
   "outputs": [
    {
     "name": "stdin",
     "output_type": "stream",
     "text": [
      "Enter the BMI index: 34\n"
     ]
    },
    {
     "name": "stdout",
     "output_type": "stream",
     "text": [
      "Very overweight\n"
     ]
    }
   ],
   "source": [
    "bmi=float(input(\"Enter the BMI index:\"))\n",
    "if (bmi<18.5):\n",
    "    print(\"underweight\")\n",
    "elif (18.5<bmi<24.9):\n",
    "    print(\"normal\")\n",
    "elif(25.0<bmi<29.9):\n",
    "    print(\"over weight\")\n",
    "elif(30.0<bmi<34.9):\n",
    "    print(\"Very overweight\")\n",
    "elif(bmi>35.0):\n",
    "    print(\"Extremely obese\")"
   ]
  }
 ],
 "metadata": {
  "kernelspec": {
   "display_name": "Python 3 (ipykernel)",
   "language": "python",
   "name": "python3"
  },
  "language_info": {
   "codemirror_mode": {
    "name": "ipython",
    "version": 3
   },
   "file_extension": ".py",
   "mimetype": "text/x-python",
   "name": "python",
   "nbconvert_exporter": "python",
   "pygments_lexer": "ipython3",
   "version": "3.12.4"
  }
 },
 "nbformat": 4,
 "nbformat_minor": 5
}
