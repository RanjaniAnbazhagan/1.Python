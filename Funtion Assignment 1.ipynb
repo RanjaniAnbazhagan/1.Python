{
 "cells": [
  {
   "cell_type": "code",
   "execution_count": 1,
   "id": "c862481f-cd76-4911-9b0d-d7df22d34005",
   "metadata": {},
   "outputs": [],
   "source": [
    "List=[\"Machine Learning\",\"Neural Networks\",\"vision\",\"Robotics\",\"Speech Processing\",\"Natural Language Processing\"]\n",
    "def subfields():\n",
    "    print(\"subfields in AI are\")\n",
    "    for name in List:\n",
    "        print(name)\n",
    "        "
   ]
  },
  {
   "cell_type": "code",
   "execution_count": 3,
   "id": "ac254cef-ee69-4281-83ef-f0dadc5d0fcf",
   "metadata": {},
   "outputs": [
    {
     "name": "stdout",
     "output_type": "stream",
     "text": [
      "subfields in AI are\n",
      "Machine Learning\n",
      "Neural Networks\n",
      "vision\n",
      "Robotics\n",
      "Speech Processing\n",
      "Natural Language Processing\n"
     ]
    }
   ],
   "source": [
    "subfields()"
   ]
  },
  {
   "cell_type": "code",
   "execution_count": 13,
   "id": "92a9642e-888d-4fef-8775-38b03791aab6",
   "metadata": {},
   "outputs": [
    {
     "name": "stdin",
     "output_type": "stream",
     "text": [
      "Enter a number 52452\n"
     ]
    },
    {
     "name": "stdout",
     "output_type": "stream",
     "text": [
      "52452 is Even number\n"
     ]
    }
   ],
   "source": [
    "def oddEven():\n",
    "    num=int(input(\"Enter a number\"))\n",
    "    if num%2==0:\n",
    "        print(num,\"is Even number\")\n",
    "    else:\n",
    "        print(\"Number is odd\")\n",
    "oddEven()\n",
    "            \n",
    "        "
   ]
  },
  {
   "cell_type": "code",
   "execution_count": 27,
   "id": "b8976c04-2c84-402c-9a00-cfb5075c777d",
   "metadata": {
    "scrolled": true
   },
   "outputs": [
    {
     "name": "stdin",
     "output_type": "stream",
     "text": [
      "your gender male \n",
      "your Age 20\n"
     ]
    },
    {
     "name": "stdout",
     "output_type": "stream",
     "text": [
      "not eligible for marriage\n"
     ]
    }
   ],
   "source": [
    "gender=input(\"your gender\")\n",
    "age=int(input(\"your Age\"))\n",
    "def eligible():\n",
    "    if gender==\"male\" and age>21:\n",
    "        print(\"eligible for marriage\")\n",
    "    elif gender==\"female\" and age>21:\n",
    "        print(\"eligible for marriage\")\n",
    "    else:\n",
    "        print(\"not eligible for marriage\")\n",
    "\n",
    "        \n",
    "eligible()\n"
   ]
  },
  {
   "cell_type": "code",
   "execution_count": 39,
   "id": "540ab63c-2f85-4257-8116-68b897570b75",
   "metadata": {},
   "outputs": [
    {
     "name": "stdin",
     "output_type": "stream",
     "text": [
      "subject1 78\n",
      "subject2 89\n",
      "subject3 65\n",
      "subject4 87\n",
      "subject5 89\n"
     ]
    },
    {
     "name": "stdout",
     "output_type": "stream",
     "text": [
      "Total: 408\n",
      "percentage: 81.599999999999994\n"
     ]
    }
   ],
   "source": [
    "subject1=int(input(\"subject1\"))\n",
    "subject2=int(input(\"subject2\"))\n",
    "subject3=int(input(\"subject3\"))\n",
    "subject4=int(input(\"subject4\"))\n",
    "subject5=int(input(\"subject5\"))\n",
    "total=subject1+subject2+subject3+subject4+subject5\n",
    "print(\"Total:\",total)\n",
    "def percentage():\n",
    "    per=total/5\n",
    "    print(\"percentage: {:.15f}\".format(per))  # Displays 15 decimal places\n",
    "    \n",
    "\n",
    "percentage()\n"
   ]
  },
  {
   "cell_type": "code",
   "execution_count": 8,
   "id": "5200bccc-90d4-44b0-82f0-8fb3e777be9a",
   "metadata": {},
   "outputs": [
    {
     "name": "stdin",
     "output_type": "stream",
     "text": [
      "Height: 32\n",
      "Breadth: 34\n"
     ]
    },
    {
     "name": "stdout",
     "output_type": "stream",
     "text": [
      "Area formula:(Height*Breadth)/2\n",
      "Area of Triangle: 544.0\n"
     ]
    },
    {
     "name": "stdin",
     "output_type": "stream",
     "text": [
      "Height1 2\n",
      "Height2 4\n",
      "Breadth 4\n"
     ]
    },
    {
     "name": "stdout",
     "output_type": "stream",
     "text": [
      "Perimeter formula:Height1+Height2+Breadth\n",
      "perimeter of Triangle 10\n"
     ]
    }
   ],
   "source": [
    "Height=int(input(\"Height:\"))\n",
    "Breadth=int(input(\"Breadth:\"))\n",
    "def area():\n",
    "    print(\"Area formula:(Height*Breadth)/2\")\n",
    "    Area=(Height*Breadth)/2\n",
    "    print(\"Area of Triangle:\",Area)\n",
    "area()\n",
    "Height1=int(input(\"Height1\"))\n",
    "Height2=int(input(\"Height2\"))\n",
    "Breadth=int(input(\"Breadth\"))\n",
    "def perimeter():\n",
    "    print(\"Perimeter formula:Height1+Height2+Breadth\")\n",
    "    perimeter=(Height1+Height2+Breadth)\n",
    "    print(\"perimeter of Triangle\",perimeter)\n",
    "perimeter()\n",
    "    \n",
    "    \n",
    "    \n",
    "    "
   ]
  },
  {
   "cell_type": "code",
   "execution_count": null,
   "id": "32af6592-e0df-4e68-979a-21c65779a077",
   "metadata": {},
   "outputs": [],
   "source": []
  }
 ],
 "metadata": {
  "kernelspec": {
   "display_name": "Python 3 (ipykernel)",
   "language": "python",
   "name": "python3"
  },
  "language_info": {
   "codemirror_mode": {
    "name": "ipython",
    "version": 3
   },
   "file_extension": ".py",
   "mimetype": "text/x-python",
   "name": "python",
   "nbconvert_exporter": "python",
   "pygments_lexer": "ipython3",
   "version": "3.12.4"
  }
 },
 "nbformat": 4,
 "nbformat_minor": 5
}
