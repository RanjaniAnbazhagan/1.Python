{
 "cells": [
  {
   "cell_type": "code",
   "execution_count": 10,
   "id": "c862481f-cd76-4911-9b0d-d7df22d34005",
   "metadata": {},
   "outputs": [],
   "source": [
    "def subfields():\n",
    "    List=[\"Machine Learning\",\"Neural Networks\",\"vision\",\"Robotics\",\"Speech Processing\",\"Natural Language Processing\"]\n",
    "    print(\"subfields in AI are\")\n",
    "    for name in List:\n",
    "        print(name)\n",
    "        "
   ]
  },
  {
   "cell_type": "code",
   "execution_count": 12,
   "id": "ac254cef-ee69-4281-83ef-f0dadc5d0fcf",
   "metadata": {},
   "outputs": [
    {
     "name": "stdout",
     "output_type": "stream",
     "text": [
      "subfields in AI are\n",
      "Machine Learning\n",
      "Neural Networks\n",
      "vision\n",
      "Robotics\n",
      "Speech Processing\n",
      "Natural Language Processing\n"
     ]
    }
   ],
   "source": [
    "subfields()"
   ]
  },
  {
   "cell_type": "code",
   "execution_count": 14,
   "id": "92a9642e-888d-4fef-8775-38b03791aab6",
   "metadata": {},
   "outputs": [],
   "source": [
    "def oddEven():\n",
    "    num=int(input(\"Enter a number\"))\n",
    "    if num%2==0:\n",
    "        print(num,\"is Even number\")\n",
    "    else:\n",
    "        print(\"Number is odd\")\n",
    "          \n",
    "        "
   ]
  },
  {
   "cell_type": "code",
   "execution_count": 16,
   "id": "f43fc551-73a3-493c-a54a-c5f8249b327b",
   "metadata": {},
   "outputs": [
    {
     "name": "stdin",
     "output_type": "stream",
     "text": [
      "Enter a number 24542\n"
     ]
    },
    {
     "name": "stdout",
     "output_type": "stream",
     "text": [
      "24542 is Even number\n"
     ]
    }
   ],
   "source": [
    "oddEven()"
   ]
  },
  {
   "cell_type": "code",
   "execution_count": 18,
   "id": "b8976c04-2c84-402c-9a00-cfb5075c777d",
   "metadata": {
    "scrolled": true
   },
   "outputs": [],
   "source": [
    "def eligible():\n",
    "    gender=input(\"your gender\")\n",
    "    age=int(input(\"your Age\"))\n",
    "    if gender==\"male\" and age>21:\n",
    "        print(\"eligible for marriage\")\n",
    "    elif gender==\"female\" and age>21:\n",
    "        print(\"eligible for marriage\")\n",
    "    else:\n",
    "        print(\"not eligible for marriage\")\n",
    "\n",
    "        "
   ]
  },
  {
   "cell_type": "code",
   "execution_count": 20,
   "id": "b29c7548-1a07-4990-b311-4a2e2faab959",
   "metadata": {},
   "outputs": [
    {
     "name": "stdin",
     "output_type": "stream",
     "text": [
      "your gender male \n",
      "your Age 20\n"
     ]
    },
    {
     "name": "stdout",
     "output_type": "stream",
     "text": [
      "not eligible for marriage\n"
     ]
    }
   ],
   "source": [
    "eligible()"
   ]
  },
  {
   "cell_type": "code",
   "execution_count": 22,
   "id": "540ab63c-2f85-4257-8116-68b897570b75",
   "metadata": {},
   "outputs": [],
   "source": [
    "def percentage():\n",
    "    subject1=int(input(\"subject1\"))\n",
    "    subject2=int(input(\"subject2\"))\n",
    "    subject3=int(input(\"subject3\"))\n",
    "    subject4=int(input(\"subject4\"))\n",
    "    subject5=int(input(\"subject5\"))\n",
    "    total=subject1+subject2+subject3+subject4+subject5\n",
    "    print(\"Total:\",total)\n",
    "    per=total/5\n",
    "    print(\"percentage: {:.15f}\".format(per))  # Displays 15 decimal places\n",
    "    \n"
   ]
  },
  {
   "cell_type": "code",
   "execution_count": 28,
   "id": "5752c97a-c122-46fe-8201-4deded0e001a",
   "metadata": {},
   "outputs": [
    {
     "name": "stdin",
     "output_type": "stream",
     "text": [
      "subject1 67\n",
      "subject2 87\n",
      "subject3 98\n",
      "subject4 67\n",
      "subject5 67\n"
     ]
    },
    {
     "name": "stdout",
     "output_type": "stream",
     "text": [
      "Total: 386\n",
      "percentage: 77.200000000000003\n"
     ]
    }
   ],
   "source": [
    "percentage()"
   ]
  },
  {
   "cell_type": "code",
   "execution_count": 36,
   "id": "5200bccc-90d4-44b0-82f0-8fb3e777be9a",
   "metadata": {},
   "outputs": [],
   "source": [
    "def area():\n",
    "    Height=int(input(\"Height:\"))\n",
    "    Breadth=int(input(\"Breadth:\"))\n",
    "    print(\"Area formula:(Height*Breadth)/2\")\n",
    "    Area=(Height*Breadth)/2\n",
    "    print(\"Area of Triangle:\",Area)\n",
    "\n",
    "def perimeter():\n",
    "    Height1=int(input(\"Height1\"))\n",
    "    Height2=int(input(\"Height2\"))\n",
    "    Breadth=int(input(\"Breadth\"))\n",
    "    print(\"Perimeter formula:Height1+Height2+Breadth\")\n",
    "    perimeter=(Height1+Height2+Breadth)\n",
    "    print(\"perimeter of Triangle\",perimeter)\n",
    "\n",
    "    \n",
    "       "
   ]
  },
  {
   "cell_type": "code",
   "execution_count": 38,
   "id": "927e5db0-20f3-44b3-b851-8aa5e4e92b3c",
   "metadata": {},
   "outputs": [
    {
     "name": "stdin",
     "output_type": "stream",
     "text": [
      "Height: 32\n",
      "Breadth: 34\n"
     ]
    },
    {
     "name": "stdout",
     "output_type": "stream",
     "text": [
      "Area formula:(Height*Breadth)/2\n",
      "Area of Triangle: 544.0\n"
     ]
    }
   ],
   "source": [
    "area()"
   ]
  },
  {
   "cell_type": "code",
   "execution_count": 32,
   "id": "dc46c4f4-23bc-4921-85d6-d2a67b2639a8",
   "metadata": {},
   "outputs": [
    {
     "name": "stdout",
     "output_type": "stream",
     "text": [
      "Perimeter formula:Height1+Height2+Breadth\n",
      "perimeter of Triangle 10\n"
     ]
    }
   ],
   "source": [
    "perimeter()"
   ]
  },
  {
   "cell_type": "code",
   "execution_count": null,
   "id": "32af6592-e0df-4e68-979a-21c65779a077",
   "metadata": {},
   "outputs": [],
   "source": []
  }
 ],
 "metadata": {
  "kernelspec": {
   "display_name": "Python 3 (ipykernel)",
   "language": "python",
   "name": "python3"
  },
  "language_info": {
   "codemirror_mode": {
    "name": "ipython",
    "version": 3
   },
   "file_extension": ".py",
   "mimetype": "text/x-python",
   "name": "python",
   "nbconvert_exporter": "python",
   "pygments_lexer": "ipython3",
   "version": "3.12.4"
  }
 },
 "nbformat": 4,
 "nbformat_minor": 5
}
