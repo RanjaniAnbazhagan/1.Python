{
 "cells": [
  {
   "cell_type": "code",
   "execution_count": 1,
   "id": "bd09d2e1-6079-4a45-a5fd-f98d97263bd8",
   "metadata": {},
   "outputs": [
    {
     "name": "stdin",
     "output_type": "stream",
     "text": [
      "value==: 10\n"
     ]
    },
    {
     "name": "stdout",
     "output_type": "stream",
     "text": [
      "CORRECT\n"
     ]
    }
   ],
   "source": [
    "num=int(input(\"value==:\"))\n",
    "if num==10:\n",
    "    print(\"CORRECT\")\n",
    "else:\n",
    "    print(\"INCORRECT\")\n"
   ]
  },
  {
   "cell_type": "code",
   "execution_count": 3,
   "id": "68f86ea5-6cd8-44bc-b635-d7e780ae2a4e",
   "metadata": {},
   "outputs": [
    {
     "name": "stdin",
     "output_type": "stream",
     "text": [
      "Enter the password: HOPE@123\n"
     ]
    },
    {
     "name": "stdout",
     "output_type": "stream",
     "text": [
      "your password is correct\n"
     ]
    }
   ],
   "source": [
    "name=input(\"Enter the password:\")\n",
    "if name==\"HOPE@123\":\n",
    "   print(\"your password is correct\") \n",
    "else:\n",
    "    print(\"your password is incorrect\") "
   ]
  },
  {
   "cell_type": "code",
   "execution_count": 5,
   "id": "85827347-8eb2-493e-b588-c58242afa34d",
   "metadata": {},
   "outputs": [
    {
     "name": "stdin",
     "output_type": "stream",
     "text": [
      "age 20\n"
     ]
    },
    {
     "name": "stdout",
     "output_type": "stream",
     "text": [
      "adult\n"
     ]
    }
   ],
   "source": [
    "age=int(input(\"age\"))\n",
    "if age<=12:\n",
    "    print(\"children\")\n",
    "elif 13<age<39:\n",
    "    print(\"adult\")\n",
    "elif 40<age<60:\n",
    "    print(\"citizen\")\n",
    "elif 61<age<120:\n",
    "    print(\"senior citizen\")\n",
    "else:\n",
    "    print(\"Not a human\")"
   ]
  },
  {
   "cell_type": "code",
   "execution_count": 7,
   "id": "f2e3ca63-b62d-41d0-88fc-ad676b8c5d9e",
   "metadata": {},
   "outputs": [
    {
     "name": "stdin",
     "output_type": "stream",
     "text": [
      "enter a number 45\n"
     ]
    },
    {
     "name": "stdout",
     "output_type": "stream",
     "text": [
      "Number is positive\n"
     ]
    }
   ],
   "source": [
    "num=int(input(\"enter a number\"))\n",
    "if num>0:\n",
    "    print(\"Number is positive\")\n",
    "else:\n",
    "    print(\"Number is negative\")"
   ]
  },
  {
   "cell_type": "code",
   "execution_count": 9,
   "id": "9e88586b-328d-4f22-a25c-96ecb4b96dad",
   "metadata": {},
   "outputs": [
    {
     "name": "stdin",
     "output_type": "stream",
     "text": [
      "enter a number to check 22\n"
     ]
    },
    {
     "name": "stdout",
     "output_type": "stream",
     "text": [
      "Number is not divisible by 5\n"
     ]
    }
   ],
   "source": [
    "num=int(input(\"enter a number to check\"))\n",
    "if num%5==0:\n",
    "    print(\"Number is divisible by 5\")\n",
    "else:\n",
    "    print(\"Number is not divisible by 5\")"
   ]
  },
  {
   "cell_type": "code",
   "execution_count": null,
   "id": "8d296a31-6955-42ab-8871-795dcfd91faf",
   "metadata": {},
   "outputs": [],
   "source": []
  }
 ],
 "metadata": {
  "kernelspec": {
   "display_name": "Python 3 (ipykernel)",
   "language": "python",
   "name": "python3"
  },
  "language_info": {
   "codemirror_mode": {
    "name": "ipython",
    "version": 3
   },
   "file_extension": ".py",
   "mimetype": "text/x-python",
   "name": "python",
   "nbconvert_exporter": "python",
   "pygments_lexer": "ipython3",
   "version": "3.12.4"
  }
 },
 "nbformat": 4,
 "nbformat_minor": 5
}
